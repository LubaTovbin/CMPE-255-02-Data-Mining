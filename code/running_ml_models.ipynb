{
 "cells": [
  {
   "cell_type": "code",
   "execution_count": 1,
   "metadata": {},
   "outputs": [],
   "source": [
    "import reader\n",
    "import numpy as np\n",
    "import pandas as pd\n",
    "from sklearn.linear_model import Ridge, LinearRegression, LogisticRegression\n",
    "from sklearn.model_selection import train_test_split\n",
    "import sklearn.metrics as metrics\n",
    "from matplotlib import pyplot as plt\n",
    "%matplotlib inline\n",
    "import seaborn as sns"
   ]
  },
  {
   "cell_type": "markdown",
   "metadata": {},
   "source": [
    "#### Loading the dataset"
   ]
  },
  {
   "cell_type": "code",
   "execution_count": null,
   "metadata": {},
   "outputs": [],
   "source": [
    "data=reader.get_all_data()\n",
    "data.head()"
   ]
  },
  {
   "cell_type": "markdown",
   "metadata": {},
   "source": [
    "#### Getting features and label and performing few transformations"
   ]
  },
  {
   "cell_type": "code",
   "execution_count": null,
   "metadata": {},
   "outputs": [],
   "source": [
    "from collections import OrderedDict\n",
    "class Row(object):\n",
    "    \n",
    "    def __init__(self):\n",
    "        self.education_type = None\n",
    "        self.income_type = None\n",
    "        self.crime_regularization = None\n",
    "        self.LinearRegMSE = None\n",
    "        self.RidgeMSE = None\n",
    "        self.DecisionTreeMSE = None\n",
    "        self.KNeighbourMSE = None\n",
    "        self.SVR_MSE = None\n",
    "        self.RandomForestMSE = None\n",
    "        self.BoostingMSE = None\n",
    "\n",
    "    def toDict(self):\n",
    "        return {'education_type' : self.education_type,\n",
    "                'income_type' : self.income_type,\n",
    "                'crime_regularization': self.crime_regularization,\n",
    "                'LinearRegMSE':  self.LinearRegMSE,\n",
    "                'RidgeMSE' : self.RidgeMSE,\n",
    "                'DecisionTreeMSE' : self.DecisionTreeMSE,\n",
    "                'KNeighbourMSE': self.KNeighbourMSE,\n",
    "                'SVR_MSE' : self.SVR_MSE,\n",
    "                'RandomForestMSE': self.RandomForestMSE,\n",
    "                'BoostingMSE' :self.BoostingMSE\n",
    "               }"
   ]
  },
  {
   "cell_type": "markdown",
   "execution_count": null,
   "metadata": {},
   "outputs": [],
   "source": [
    "#### Applying models"
   ]
  },
  {
   "cell_type": "code",
   "execution_count": 104,
   "metadata": {},
   "outputs": [],
   "source": [
    "from sklearn.tree import DecisionTreeRegressor\n",
    "from sklearn.ensemble import RandomForestRegressor, GradientBoostingRegressor\n",
    "from sklearn.neighbors import KNeighborsRegressor\n",
    "from sklearn.svm import SVR\n",
    "from sklearn.preprocessing import StandardScaler\n",
    "from sklearn.model_selection import ParameterGrid\n",
    "\n",
    "import warnings\n",
    "warnings.filterwarnings(\"ignore\")\n",
    "\n",
    "param_grid = {\"education_type\" :[\"dropout\", \"degree\"], \"income_type\" :[\"median\", \"deviation\"], \"crime_type\":[\"log\", \"sqrt_log\"]}\n",
    "result = pd.DataFrame()\n",
    "\n",
    "for param in list(ParameterGrid(param_grid)):\n",
    "    row = Row()\n",
    "    row.education_type = \"High School Dropout Percent\" if param['education_type'] == 'dropout' else \"Percent with Any Degree\"\n",
    "    row.income_type = \"Median Income\" if param['income_type'] == \"median\" else \"Income Standard Deviation\"\n",
    "    row.crime_regularization = \"Square Root of Log\" if param['crime_type'] == 'log' else \"Fourth Root of Log\"\n",
    "    X = reader.get_features(param['education_type'], param['income_type'])\n",
    "    y = reader.get_label('total', param['crime_type'])\n",
    "    y=np.power(y,1/2)\n",
    "    X_train, X_test, y_train, y_test = train_test_split(X, y, test_size=0.2, random_state=0)\n",
    "    \n",
    "    \n",
    "    ## Scale input data\n",
    "    scaler = StandardScaler()\n",
    "    X_train = scaler.fit_transform(X_train.to_numpy())\n",
    "    X_test = scaler.fit_transform(X_test.to_numpy())\n",
    "    \n",
    "    ## Liner Regression\n",
    "    linreg = LinearRegression()\n",
    "    linreg.fit(X_train, y_train)\n",
    "    y_pred=linreg.predict(X_test)\n",
    "    row.LinearRegMSE = metrics.mean_squared_error(y_test, y_pred)\n",
    "    \n",
    "    ## Ridge Regression\n",
    "    ridgereg = Ridge(alpha=1.0)\n",
    "    ridgereg=ridgereg.fit(X_train,y_train)\n",
    "    y_pred=ridgereg.predict(X_test)\n",
    "    row.RidgeMSE = metrics.mean_squared_error(y_test, y_pred)\n",
    "    \n",
    "    ## Decision Tree\n",
    "    regr = DecisionTreeRegressor(max_depth=2)\n",
    "    regr.fit(X_train, y_train)\n",
    "    y_pred = regr.predict(X_test)\n",
    "    row.DecisionTreeMSE = metrics.mean_squared_error(y_test, y_pred)\n",
    "    \n",
    "    ## Random Forest Tree\n",
    "    regr = RandomForestRegressor(max_depth=2)\n",
    "    regr.fit(X_train, y_train)\n",
    "    y_pred = regr.predict(X_test)\n",
    "    row.RandomForestMSE = metrics.mean_squared_error(y_test, y_pred)\n",
    "    \n",
    "    ### Boosting\n",
    "    params = {'n_estimators': 100, 'max_depth': 2}\n",
    "    clf = GradientBoostingRegressor(**params)\n",
    "    clf.fit(X_train, y_train)\n",
    "    row.BoostingMSE = metrics.mean_squared_error(y_test, y_pred)\n",
    "    \n",
    "    ### KNN\n",
    "    neigh = KNeighborsRegressor(n_neighbors=3)\n",
    "    neigh.fit(X_train, y_train) \n",
    "    y_pred=neigh.predict(X_test)\n",
    "    row.KNeighbourMSE = metrics.mean_squared_error(y_test, y_pred)\n",
    "    \n",
    "    ### SVR\n",
    "    svr = SVR(gamma='auto')\n",
    "    svr = svr.fit(X_train, y_train.values.ravel())\n",
    "    y_pred=svr.predict(X_test)\n",
    "    row.SVR_MSE = metrics.mean_squared_error(y_test, y_pred)\n",
    "   \n",
    "    \n",
    "    result = result.append(row.toDict(), ignore_index=True)\n",
    "\n",
    "result\n"
   ]
  },
  {
   "cell_type": "markdown",
   "execution_count": null,
   "metadata": {},
   "outputs": [],
   "source": [
    "#### SVR Support Vectors"
   ]
  },
  {
   "cell_type": "code",
   "execution_count": null,
   "metadata": {},
   "outputs": [],
   "source": [
    "X = reader.get_features(\"dropout\", \"median\")\n",
    "y = reader.get_label('total', \"log\")\n",
    "y=np.power(y,1/2)\n",
    "X_train, X_test, y_train, y_test = train_test_split(X, y, test_size=0.2, random_state=0)\n",
    "\n",
    "scaler = StandardScaler()\n",
    "X_train = scaler.fit_transform(X_train.to_numpy())\n",
    "X_test = scaler.fit_transform(X_test.to_numpy())\n",
    "\n",
    "\n",
    "svr = SVR(gamma='auto')\n",
    "svr = svr.fit(X_train, y_train.values.ravel())\n",
    "y_pred=svr.predict(X_test)\n",
    "\n",
    "print(metrics.mean_squared_error(y_test, y_pred))\n",
    "supportVectors = len(svr.support_vectors_)\n",
    "SV=svr.support_vectors_\n",
    "print(\"Number of support vectors : \",supportVectors)\n",
    "print(\" \")\n",
    "print(\"Support Vectors : \\n\", SV)"
   ]
  },
  {
   "cell_type": "markdown",
   "execution_count": null,
   "metadata": {},
   "outputs": [],
   "source": [
    "#### Linear Regression"
   ]
  },
  {
   "cell_type": "code",
   "execution_count": null,
   "metadata": {},
   "outputs": [],
   "source": [
    "X = reader.get_features(\"degree\", \"median\")\n",
    "y = reader.get_label('total', \"log\")\n",
    "y=np.power(y,1/2)\n",
    "X_train, X_test, y_train, y_test = train_test_split(X, y, test_size=0.2, random_state=0)\n",
    "\n",
    "scaler = StandardScaler()\n",
    "X_train = scaler.fit_transform(X_train.to_numpy())\n",
    "X_test = scaler.fit_transform(X_test.to_numpy())\n",
    "\n",
    "linreg = LinearRegression()\n",
    "linreg.fit(X_train, y_train)\n",
    "y_pred=linreg.predict(X_test)\n",
    "print(metrics.mean_squared_error(y_test, y_pred))\n",
    "\n",
    "linreg.coef_"
   ]
  },
  {
   "cell_type": "code",
   "execution_count": null,
   "metadata": {},
   "outputs": [],
   "source": []
  }
 ],
 "metadata": {
  "kernelspec": {
   "display_name": "Python 3",
   "language": "python",
   "name": "python3"
  },
  "language_info": {
   "codemirror_mode": {
    "name": "ipython",
    "version": 3
   },
   "file_extension": ".py",
   "mimetype": "text/x-python",
   "name": "python",
   "nbconvert_exporter": "python",
   "pygments_lexer": "ipython3",
   "version": "3.7.1"
  }
 },
 "nbformat": 4,
 "nbformat_minor": 2
}