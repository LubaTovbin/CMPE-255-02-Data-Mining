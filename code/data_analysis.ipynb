{
 "nbformat": 4,
 "nbformat_minor": 2,
 "metadata": {
  "language_info": {
   "name": "python",
   "codemirror_mode": {
    "name": "ipython",
    "version": 3
   },
   "version": "3.7.4"
  },
  "orig_nbformat": 2,
  "file_extension": ".py",
  "mimetype": "text/x-python",
  "name": "python",
  "npconvert_exporter": "python",
  "pygments_lexer": "ipython3",
  "version": 3
 },
 "cells": [
  {
   "cell_type": "code",
   "execution_count": 1,
   "metadata": {},
   "outputs": [],
   "source": [
    "from reader import *\n",
    "import matplotlib.pyplot as plt \n",
    "import numpy as np "
   ]
  },
  {
   "cell_type": "code",
   "execution_count": 2,
   "metadata": {},
   "outputs": [],
   "source": [
    "income = get_us_income_distribution()"
   ]
  },
  {
   "cell_type": "code",
   "execution_count": 0,
   "metadata": {},
   "outputs": [],
   "source": [
    "lists = sorted(income.items(), key = lambda x: round(float(x[0]), 2)) # sorted by key, return a list of tuples\n",
    "print(lists)\n",
    "x, y = zip(*lists) \n",
    "x = [str(round(float(n),2)) for n in x]\n",
    "y = [n/1000 for n in list(y)]\n",
    "print(x,y)\n",
    "plt.figure(figsize=(16,10))\n",
    "plt.xlabel(\"Income (thousand dollars)\")\n",
    "plt.ylabel(\"Households (x1000)\")\n",
    "plt.bar(x, y)\n",
    "plt.show()\n"
   ]
  },
  {
   "cell_type": "code",
   "execution_count": 0,
   "metadata": {},
   "outputs": [],
   "source": [
    "by_freq = sorted(income.items(), key=lambda x: x[1], reverse=True)\n",
    "mode = by_freq[0][0]\n",
    "values, frequencies = zip(*by_freq) \n",
    "\n",
    "overall_income_data = np.repeat(np.array(values), np.array(frequencies)).astype(np.float)\n",
    "mean = np.mean(overall_income_data)\n",
    "median = np.median(overall_income_data)"
   ]
  },
  {
   "cell_type": "code",
   "execution_count": 0,
   "metadata": {},
   "outputs": [],
   "source": [
    "x1 = [round(float(n),2) for n in x]\n",
    "plt.figure(figsize=(16,10))\n",
    "plt.xlabel(\"Income (thousand dollars)\")\n",
    "plt.ylabel(\"Households (x1000)\")\n",
    "plt.axvline(x=median, label=\"Median\", linestyle=\"--\")\n",
    "plt.axvline(x=float(mode), label=\"Mode\", color=\"b\", linestyle=\"--\")\n",
    "plt.axvline(x=mean, label=\"Mean\", color=\"g\", linestyle=\"--\")\n",
    "plt.legend()\n",
    "plt.title(\"Frequency of Household Incomes (Mode > Mean > Median)\")\n",
    "plt.plot(x1, y)"
   ]
  },
  {
   "cell_type": "code",
   "execution_count": 0,
   "metadata": {},
   "outputs": [],
   "source": [
    "print(mode, mean, median)"
   ]
  },
  {
   "cell_type": "code",
   "execution_count": null,
   "metadata": {},
   "outputs": [],
   "source": []
  },
  {
   "cell_type": "code",
   "execution_count": null,
   "metadata": {},
   "outputs": [],
   "source": []
  },
  {
   "cell_type": "code",
   "execution_count": 0,
   "metadata": {},
   "outputs": [],
   "source": [
    "data = get_all_education_data()"
   ]
  },
  {
   "cell_type": "code",
   "execution_count": 0,
   "metadata": {},
   "outputs": [],
   "source": [
    "data"
   ]
  },
  {
   "cell_type": "code",
   "execution_count": 0,
   "metadata": {},
   "outputs": [],
   "source": [
    "from us_state_abbrev import us_state_abbrev\n",
    "states = list(us_state_abbrev.keys())"
   ]
  },
  {
   "cell_type": "code",
   "execution_count": 0,
   "metadata": {},
   "outputs": [],
   "source": [
    "states = [state.upper() for state in states]\n",
    "data = data.loc[states]\n",
    "data.dropna(inplace=True)"
   ]
  },
  {
   "cell_type": "code",
   "execution_count": 0,
   "metadata": {},
   "outputs": [],
   "source": [
    "data"
   ]
  },
  {
   "cell_type": "code",
   "execution_count": 0,
   "metadata": {},
   "outputs": [],
   "source": [
    "fig,ax = plt.subplots()\n",
    "fig.set_figheight(10)\n",
    "fig.set_figwidth(16)\n",
    "ax.plot(data[\"Percent High School Dropouts\"])\n",
    "ax.plot(data[\"Percent No Degree\"])\n",
    "plt.show()\n"
   ]
  },
  {
   "cell_type": "code",
   "execution_count": 27,
   "metadata": {},
   "outputs": [],
   "source": [
    "prop_crime = get_all_property_crime()"
   ]
  },
  {
   "cell_type": "code",
   "execution_count": null,
   "metadata": {},
   "outputs": [],
   "source": []
  }
 ]
}